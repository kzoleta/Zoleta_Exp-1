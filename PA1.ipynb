{
 "cells": [
  {
   "cell_type": "markdown",
   "id": "8364f18a-7526-4498-aca6-c4fb77d2fda2",
   "metadata": {},
   "source": [
    "**_PA1.1_**"
   ]
  },
  {
   "cell_type": "code",
   "execution_count": 174,
   "id": "3576b642-e985-4d4c-bd38-95481127f8aa",
   "metadata": {},
   "outputs": [],
   "source": [
    "def alphabet_soup (s): #Defining alphabet soup\n",
    "    return ''.join(sorted(s))"
   ]
  },
  {
   "cell_type": "markdown",
   "id": "0a4a9b61-4e64-44a1-84dd-ac523de1f782",
   "metadata": {},
   "source": [
    "(Try)"
   ]
  },
  {
   "cell_type": "code",
   "execution_count": 168,
   "id": "bba49fbb-2076-41af-8b7f-2df2dbb9e206",
   "metadata": {},
   "outputs": [
    {
     "data": {
      "text/plain": [
       "'ehllo'"
      ]
     },
     "execution_count": 168,
     "metadata": {},
     "output_type": "execute_result"
    }
   ],
   "source": [
    "alphabet_soup(\"hello\")"
   ]
  },
  {
   "cell_type": "markdown",
   "id": "36dfc0ae-765d-4336-a8e8-605fb2f721d9",
   "metadata": {},
   "source": [
    "**_PA1.2_**"
   ]
  },
  {
   "cell_type": "code",
   "execution_count": 75,
   "id": "879403f0-aafe-4b21-bfd5-ae738d42980a",
   "metadata": {},
   "outputs": [],
   "source": [
    "def emotify(input):\n",
    "    # Assigning the words to their corresponding emoticons\n",
    "    emoticons = {\n",
    "        'smile': ':)',\n",
    "        'grin': ':D',\n",
    "        'sad': ':(',\n",
    "        'mad': '>:( '\n",
    "    }\n",
    "    \n",
    "    # Splitting words in the inputted sentence\n",
    "    words = input.split()\n",
    "    \n",
    "    # Replace words with emoticons if it matches\n",
    "    result = []\n",
    "    for word in words:\n",
    "        # Replace word with emoticon if it matches\n",
    "        if word in emoticons:\n",
    "            result.append(emoticons[word])\n",
    "        else:\n",
    "            result.append(word)\n",
    "\n",
    "    return ' '.join(result)\n"
   ]
  },
  {
   "cell_type": "markdown",
   "id": "aaaf75d5-9e33-4649-9e65-2d19063cb38e",
   "metadata": {},
   "source": [
    "(Try)"
   ]
  },
  {
   "cell_type": "code",
   "execution_count": 170,
   "id": "451ecf2c-52b9-4994-a162-45b4d244415f",
   "metadata": {},
   "outputs": [
    {
     "name": "stdout",
     "output_type": "stream",
     "text": [
      "Make me :)\n",
      "I am >:( \n"
     ]
    }
   ],
   "source": [
    "print(emotify(\"Make me smile\"))\n",
    "print(emotify(\"I am mad\"))"
   ]
  },
  {
   "cell_type": "markdown",
   "id": "b1a7d322-bbd6-44ab-8bb9-9965506fe7d9",
   "metadata": {},
   "source": [
    "**_PA1.3_**"
   ]
  },
  {
   "cell_type": "code",
   "execution_count": 172,
   "id": "1e97e31e-0692-45f6-bd18-5d55547d0689",
   "metadata": {},
   "outputs": [
    {
     "name": "stdin",
     "output_type": "stream",
     "text": [
      "Enter numbers separated by spaces:  1 2 3 4 5 6\n"
     ]
    },
    {
     "name": "stdout",
     "output_type": "stream",
     "text": [
      "first: 1    middle: [2, 3, 4, 5]    last: 6\n"
     ]
    }
   ],
   "source": [
    "def get_user_input():\n",
    "    #Prompt the user for input\n",
    "    user_input = input(\"Enter numbers separated by spaces: \")\n",
    "\n",
    "    # Convert the input string to a list of integers\n",
    "    try:\n",
    "        # Convert input to list of integers\n",
    "        numbers = [int(x) for x in user_input.split()]\n",
    "    except ValueError:\n",
    "        print(\"Please enter numbers only!\")\n",
    "        return\n",
    "\n",
    "    #Number of elements\n",
    "    if len(numbers) < 3:\n",
    "        print(\"The input must contain at least 3 numbers.\")\n",
    "        return\n",
    "\n",
    "    #Getting first, last, and middle numbers\n",
    "    first = numbers[0]\n",
    "    last = numbers[-1]\n",
    "    middle = numbers[1:-1]\n",
    "\n",
    "    #Print\n",
    "    print(f\"first: {first}    middle: {middle}    last: {last}\")\n",
    "\n",
    "# Function call\n",
    "get_user_input()\n"
   ]
  },
  {
   "cell_type": "code",
   "execution_count": null,
   "id": "3bdb3ea7-2def-4f62-a73f-ac38fa6f64f0",
   "metadata": {},
   "outputs": [],
   "source": []
  }
 ],
 "metadata": {
  "kernelspec": {
   "display_name": "Python 3 (ipykernel)",
   "language": "python",
   "name": "python3"
  },
  "language_info": {
   "codemirror_mode": {
    "name": "ipython",
    "version": 3
   },
   "file_extension": ".py",
   "mimetype": "text/x-python",
   "name": "python",
   "nbconvert_exporter": "python",
   "pygments_lexer": "ipython3",
   "version": "3.12.4"
  }
 },
 "nbformat": 4,
 "nbformat_minor": 5
}
